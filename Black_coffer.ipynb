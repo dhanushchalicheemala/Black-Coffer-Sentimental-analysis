{
  "nbformat": 4,
  "nbformat_minor": 0,
  "metadata": {
    "colab": {
      "provenance": []
    },
    "kernelspec": {
      "name": "python3",
      "display_name": "Python 3"
    },
    "language_info": {
      "name": "python"
    }
  },
  "cells": [
    {
      "cell_type": "code",
      "execution_count": null,
      "metadata": {
        "id": "kpp-q_AalgkP"
      },
      "outputs": [],
      "source": [
        "import requests\n",
        "from bs4 import BeautifulSoup\n",
        "import pandas as pd\n",
        "import string"
      ]
    },
    {
      "cell_type": "code",
      "source": [
        "df = pd.read_excel('/content/Input.xlsx')"
      ],
      "metadata": {
        "id": "0XIerIwRliu2"
      },
      "execution_count": null,
      "outputs": []
    },
    {
      "cell_type": "code",
      "source": [
        "df.head()"
      ],
      "metadata": {
        "colab": {
          "base_uri": "https://localhost:8080/",
          "height": 206
        },
        "id": "BwtCFB8RmALl",
        "outputId": "8af844ba-e210-430c-d96c-536f0bf56adb"
      },
      "execution_count": null,
      "outputs": [
        {
          "output_type": "execute_result",
          "data": {
            "text/plain": [
              "   URL_ID                                                URL\n",
              "0      37  https://insights.blackcoffer.com/ai-in-healthc...\n",
              "1      38  https://insights.blackcoffer.com/what-if-the-c...\n",
              "2      39  https://insights.blackcoffer.com/what-jobs-wil...\n",
              "3      40  https://insights.blackcoffer.com/will-machine-...\n",
              "4      41  https://insights.blackcoffer.com/will-ai-repla..."
            ],
            "text/html": [
              "\n",
              "  <div id=\"df-24536755-1ec1-420d-83c4-45324bb754dd\">\n",
              "    <div class=\"colab-df-container\">\n",
              "      <div>\n",
              "<style scoped>\n",
              "    .dataframe tbody tr th:only-of-type {\n",
              "        vertical-align: middle;\n",
              "    }\n",
              "\n",
              "    .dataframe tbody tr th {\n",
              "        vertical-align: top;\n",
              "    }\n",
              "\n",
              "    .dataframe thead th {\n",
              "        text-align: right;\n",
              "    }\n",
              "</style>\n",
              "<table border=\"1\" class=\"dataframe\">\n",
              "  <thead>\n",
              "    <tr style=\"text-align: right;\">\n",
              "      <th></th>\n",
              "      <th>URL_ID</th>\n",
              "      <th>URL</th>\n",
              "    </tr>\n",
              "  </thead>\n",
              "  <tbody>\n",
              "    <tr>\n",
              "      <th>0</th>\n",
              "      <td>37</td>\n",
              "      <td>https://insights.blackcoffer.com/ai-in-healthc...</td>\n",
              "    </tr>\n",
              "    <tr>\n",
              "      <th>1</th>\n",
              "      <td>38</td>\n",
              "      <td>https://insights.blackcoffer.com/what-if-the-c...</td>\n",
              "    </tr>\n",
              "    <tr>\n",
              "      <th>2</th>\n",
              "      <td>39</td>\n",
              "      <td>https://insights.blackcoffer.com/what-jobs-wil...</td>\n",
              "    </tr>\n",
              "    <tr>\n",
              "      <th>3</th>\n",
              "      <td>40</td>\n",
              "      <td>https://insights.blackcoffer.com/will-machine-...</td>\n",
              "    </tr>\n",
              "    <tr>\n",
              "      <th>4</th>\n",
              "      <td>41</td>\n",
              "      <td>https://insights.blackcoffer.com/will-ai-repla...</td>\n",
              "    </tr>\n",
              "  </tbody>\n",
              "</table>\n",
              "</div>\n",
              "      <button class=\"colab-df-convert\" onclick=\"convertToInteractive('df-24536755-1ec1-420d-83c4-45324bb754dd')\"\n",
              "              title=\"Convert this dataframe to an interactive table.\"\n",
              "              style=\"display:none;\">\n",
              "        \n",
              "  <svg xmlns=\"http://www.w3.org/2000/svg\" height=\"24px\"viewBox=\"0 0 24 24\"\n",
              "       width=\"24px\">\n",
              "    <path d=\"M0 0h24v24H0V0z\" fill=\"none\"/>\n",
              "    <path d=\"M18.56 5.44l.94 2.06.94-2.06 2.06-.94-2.06-.94-.94-2.06-.94 2.06-2.06.94zm-11 1L8.5 8.5l.94-2.06 2.06-.94-2.06-.94L8.5 2.5l-.94 2.06-2.06.94zm10 10l.94 2.06.94-2.06 2.06-.94-2.06-.94-.94-2.06-.94 2.06-2.06.94z\"/><path d=\"M17.41 7.96l-1.37-1.37c-.4-.4-.92-.59-1.43-.59-.52 0-1.04.2-1.43.59L10.3 9.45l-7.72 7.72c-.78.78-.78 2.05 0 2.83L4 21.41c.39.39.9.59 1.41.59.51 0 1.02-.2 1.41-.59l7.78-7.78 2.81-2.81c.8-.78.8-2.07 0-2.86zM5.41 20L4 18.59l7.72-7.72 1.47 1.35L5.41 20z\"/>\n",
              "  </svg>\n",
              "      </button>\n",
              "      \n",
              "  <style>\n",
              "    .colab-df-container {\n",
              "      display:flex;\n",
              "      flex-wrap:wrap;\n",
              "      gap: 12px;\n",
              "    }\n",
              "\n",
              "    .colab-df-convert {\n",
              "      background-color: #E8F0FE;\n",
              "      border: none;\n",
              "      border-radius: 50%;\n",
              "      cursor: pointer;\n",
              "      display: none;\n",
              "      fill: #1967D2;\n",
              "      height: 32px;\n",
              "      padding: 0 0 0 0;\n",
              "      width: 32px;\n",
              "    }\n",
              "\n",
              "    .colab-df-convert:hover {\n",
              "      background-color: #E2EBFA;\n",
              "      box-shadow: 0px 1px 2px rgba(60, 64, 67, 0.3), 0px 1px 3px 1px rgba(60, 64, 67, 0.15);\n",
              "      fill: #174EA6;\n",
              "    }\n",
              "\n",
              "    [theme=dark] .colab-df-convert {\n",
              "      background-color: #3B4455;\n",
              "      fill: #D2E3FC;\n",
              "    }\n",
              "\n",
              "    [theme=dark] .colab-df-convert:hover {\n",
              "      background-color: #434B5C;\n",
              "      box-shadow: 0px 1px 3px 1px rgba(0, 0, 0, 0.15);\n",
              "      filter: drop-shadow(0px 1px 2px rgba(0, 0, 0, 0.3));\n",
              "      fill: #FFFFFF;\n",
              "    }\n",
              "  </style>\n",
              "\n",
              "      <script>\n",
              "        const buttonEl =\n",
              "          document.querySelector('#df-24536755-1ec1-420d-83c4-45324bb754dd button.colab-df-convert');\n",
              "        buttonEl.style.display =\n",
              "          google.colab.kernel.accessAllowed ? 'block' : 'none';\n",
              "\n",
              "        async function convertToInteractive(key) {\n",
              "          const element = document.querySelector('#df-24536755-1ec1-420d-83c4-45324bb754dd');\n",
              "          const dataTable =\n",
              "            await google.colab.kernel.invokeFunction('convertToInteractive',\n",
              "                                                     [key], {});\n",
              "          if (!dataTable) return;\n",
              "\n",
              "          const docLinkHtml = 'Like what you see? Visit the ' +\n",
              "            '<a target=\"_blank\" href=https://colab.research.google.com/notebooks/data_table.ipynb>data table notebook</a>'\n",
              "            + ' to learn more about interactive tables.';\n",
              "          element.innerHTML = '';\n",
              "          dataTable['output_type'] = 'display_data';\n",
              "          await google.colab.output.renderOutput(dataTable, element);\n",
              "          const docLink = document.createElement('div');\n",
              "          docLink.innerHTML = docLinkHtml;\n",
              "          element.appendChild(docLink);\n",
              "        }\n",
              "      </script>\n",
              "    </div>\n",
              "  </div>\n",
              "  "
            ]
          },
          "metadata": {},
          "execution_count": 3
        }
      ]
    },
    {
      "cell_type": "code",
      "source": [
        "for index, row in df.iterrows():\n",
        "    url_id = row['URL_ID']\n",
        "    url = row['URL']\n",
        "    # send a GET request to the URL and get its HTML content\n",
        "    response = requests.get(url)\n",
        "    # create a BeautifulSoup object and parse the HTML content\n",
        "    soup = BeautifulSoup(response.content, 'html.parser')\n",
        "    # find the article title and text\n",
        "    title = soup.find('title').get_text().strip()\n",
        "    article_text = ''\n",
        "    # find all the paragraphs in the article text\n",
        "    for p in soup.find_all('p'):\n",
        "        # exclude any text that is not part of the article text, such as website header or footer\n",
        "        if 'class' in p.attrs and ('header' in p.attrs['class'] or 'footer' in p.attrs['class']):\n",
        "            continue\n",
        "        article_text += p.get_text().strip() + '\\n'\n",
        "    # save the article text in a text file with URL_ID as the file name\n",
        "    with open(f'{url_id}.txt', 'w', encoding='utf-8') as f:\n",
        "        f.write(title + '\\n\\n' + article_text)"
      ],
      "metadata": {
        "id": "_RIgViUymBgT"
      },
      "execution_count": null,
      "outputs": []
    },
    {
      "cell_type": "code",
      "source": [
        "import os\n",
        "import nltk\n",
        "from nltk.tokenize import word_tokenize, sent_tokenize\n",
        "from nltk.corpus import stopwords\n",
        "from nltk.stem import WordNetLemmatizer\n",
        "from sklearn.feature_extraction.text import TfidfVectorizer\n"
      ],
      "metadata": {
        "id": "dzFKOC3_neG_"
      },
      "execution_count": null,
      "outputs": []
    },
    {
      "cell_type": "code",
      "source": [
        "# set up NLTK\n",
        "nltk.download('punkt')\n",
        "nltk.download('stopwords')\n",
        "nltk.download('wordnet')"
      ],
      "metadata": {
        "colab": {
          "base_uri": "https://localhost:8080/"
        },
        "id": "JZkheCeQ1Fs_",
        "outputId": "38ed4cbd-3732-4491-f4e6-ec1af0067666"
      },
      "execution_count": null,
      "outputs": [
        {
          "output_type": "stream",
          "name": "stderr",
          "text": [
            "[nltk_data] Downloading package punkt to /root/nltk_data...\n",
            "[nltk_data]   Unzipping tokenizers/punkt.zip.\n",
            "[nltk_data] Downloading package stopwords to /root/nltk_data...\n",
            "[nltk_data]   Unzipping corpora/stopwords.zip.\n",
            "[nltk_data] Downloading package wordnet to /root/nltk_data...\n"
          ]
        },
        {
          "output_type": "execute_result",
          "data": {
            "text/plain": [
              "True"
            ]
          },
          "metadata": {},
          "execution_count": 6
        }
      ]
    },
    {
      "cell_type": "code",
      "source": [
        "output_df = pd.read_excel('/content/Output Data Structure.xlsx')"
      ],
      "metadata": {
        "id": "sTIMQW1j1YbX"
      },
      "execution_count": null,
      "outputs": []
    },
    {
      "cell_type": "code",
      "source": [
        "# create lists to store the computed variables\n",
        "word_count_list = []\n",
        "unique_word_count_list = []\n",
        "sentence_count_list = []\n",
        "avg_sentence_length_list = []\n",
        "stopword_count_list = []\n",
        "lemmatized_text_list = []\n",
        "tfidf_top_3_list = []"
      ],
      "metadata": {
        "id": "94tvLbSy1ydr"
      },
      "execution_count": null,
      "outputs": []
    },
    {
      "cell_type": "code",
      "source": [
        "# set up paths to the stop words and master dictionary files\n",
        "stop_words_path = '/content/sample_data/StopWords'\n",
        "master_dictionary_path = '/content/sample_data/MasterDictionary'\n",
        "\n",
        "# create a set of stop words from the stop words list\n",
        "stop_words = set()\n",
        "for file_name in os.listdir(stop_words_path):\n",
        "    with open(stop_words_path + \"/\"+file_name, 'r', encoding='latin-1') as f:\n",
        "        stop_words.update(set(f.read().splitlines()))\n",
        "\n",
        "# create a dictionary of positive and negative words from the master dictionary\n",
        "positive_words = set()\n",
        "negative_words = set()\n",
        "with open(master_dictionary_path+'/positive-words.txt', 'r', encoding='latin-1') as f:\n",
        "  positive_words.update(set(f.read().splitlines()))\n",
        "with open(master_dictionary_path+'/negative-words.txt', 'r', encoding='latin-1') as f:\n",
        "  negative_words.update(set(f.read().splitlines()))\n"
      ],
      "metadata": {
        "id": "Gt6v3cbZrcx3"
      },
      "execution_count": null,
      "outputs": []
    },
    {
      "cell_type": "code",
      "source": [
        "from nltk.corpus import cmudict\n",
        "nltk.download('cmudict')\n",
        "# function to count number of syllables in a word\n",
        "def count_syllables(word):\n",
        "    d = cmudict.dict()\n",
        "    try:\n",
        "        return [len(list(y for y in x if y[-1].isdigit())) for x in d[word.lower()]][0]\n",
        "    except KeyError:\n",
        "        # if word not found in the CMU Dictionary,\n",
        "        # estimate the syllable count based on vowels\n",
        "        vowels = \"aeiouy\"\n",
        "        count = 0\n",
        "        prev_char_vowel = False\n",
        "        for char in word.lower():\n",
        "            if char in vowels:\n",
        "                if not prev_char_vowel:\n",
        "                    count += 1\n",
        "                prev_char_vowel = True\n",
        "            else:\n",
        "                prev_char_vowel = False\n",
        "                if char == \"e\":\n",
        "                    if count == 0:\n",
        "                        count += 1\n",
        "                    elif not prev_char_vowel:\n",
        "                        count += 1\n",
        "        if count == 0:\n",
        "            count = 1 # every word should have at least one syllable\n",
        "        return count\n",
        "def count_syllables_per_word(word_tokens):\n",
        "    # count syllables for each word\n",
        "    syllable_counts = [count_syllables(word) for word in word_tokens]\n",
        "    return sum(syllable_counts)\n",
        "\n",
        "# function to check if a word is complex\n",
        "def is_complex(word):\n",
        "    return count_syllables(word) > 2\n",
        "# function to calculate number of complex words in text\n",
        "def count_complex_words(word_tokens):\n",
        "    complex_word_count = 0\n",
        "    for word in word_tokens:\n",
        "        if is_complex(word):\n",
        "            complex_word_count += 1\n",
        "    return complex_word_count"
      ],
      "metadata": {
        "id": "NQJdUq1Grqb5",
        "colab": {
          "base_uri": "https://localhost:8080/"
        },
        "outputId": "5cac9da3-e98d-46cc-e7ad-b062f963707f"
      },
      "execution_count": null,
      "outputs": [
        {
          "output_type": "stream",
          "name": "stderr",
          "text": [
            "[nltk_data] Downloading package cmudict to /root/nltk_data...\n",
            "[nltk_data]   Unzipping corpora/cmudict.zip.\n"
          ]
        }
      ]
    },
    {
      "cell_type": "code",
      "source": [
        "import re\n",
        "def count_personal_pronouns(text):\n",
        "    # regex pattern to match personal pronouns\n",
        "    pattern = r'\\b(i|we|my|ours|us)\\b'\n",
        "    # exclude country name 'US'\n",
        "    exclude = r'\\bUS\\b'\n",
        "    # count personal pronouns\n",
        "    count = len(re.findall(pattern, text, flags=re.IGNORECASE)) - len(re.findall(exclude, text, flags=re.IGNORECASE))\n",
        "    return count"
      ],
      "metadata": {
        "id": "-0UvDM0nEAKU"
      },
      "execution_count": null,
      "outputs": []
    },
    {
      "cell_type": "code",
      "source": [
        "# Define function to count cleaned words\n",
        "def cleaned_words(word_tokens):\n",
        "   # Define punctuation marks\n",
        "    punctuations = string.punctuation\n",
        "    # Create a translation table to remove punctuation\n",
        "    translator = str.maketrans('', '', punctuations)\n",
        "    # Remove punctuation from each word in word_tokens list\n",
        "    words = [word.translate(translator) for word in word_tokens]\n",
        "    # Remove stop words from words\n",
        "    words = [word for word in word_tokens if word not in stop_words]\n",
        "    # Count remaining words\n",
        "    count = len(words)\n",
        "    return words"
      ],
      "metadata": {
        "id": "LuP6Hkk5zA3x"
      },
      "execution_count": null,
      "outputs": []
    },
    {
      "cell_type": "code",
      "source": [
        "def avg_word_length(word_tokens):\n",
        "    total_chars = sum(len(word) for word in word_tokens)\n",
        "    total_words = len(word_tokens)\n",
        "    return total_chars/total_words"
      ],
      "metadata": {
        "id": "PpJ4jDEdK-RP"
      },
      "execution_count": null,
      "outputs": []
    },
    {
      "cell_type": "code",
      "source": [
        "# loop through each article text file\n",
        "for index, row in output_df.iterrows():\n",
        "\n",
        "    url_id = row['URL_ID']\n",
        "    # read the article text file\n",
        "    with open(f'{url_id}.txt', 'r', encoding='utf-8') as f:\n",
        "        article_text = f.read()\n",
        "\n",
        "    # tokenize the article text into words and sentences\n",
        "    word_tokens = word_tokenize(article_text)\n",
        "    sent_tokens = sent_tokenize(article_text)\n",
        "\n",
        "    #clean the words\n",
        "    word_tokens=cleaned_words(word_tokens)\n",
        "\n",
        "    #calculate positive and negative score\n",
        "    pos_score = len(positive_words.intersection(word_tokens))\n",
        "    neg_score = len(negative_words.intersection(word_tokens))\n",
        "    output_df.loc[index,'POSITIVE SCORE']=pos_score\n",
        "    output_df.loc[index,'NEGATIVE SCORE']=neg_score\n",
        "\n",
        "    #calculate polarity score\n",
        "    polarity_score = (pos_score - neg_score) / ((pos_score + neg_score) + 0.000001)\n",
        "    output_df.loc[index,'POLARITY SCORE'] = polarity_score\n",
        "\n",
        "    #calculate subjective score\n",
        "    Subjectivity_Score = (pos_score + neg_score)/ (len(word_tokens) + 0.000001)\n",
        "    output_df.loc[index,'SUBJECTIVITY SCORE']=Subjectivity_Score\n",
        "\n",
        "    #Average sentence lenght\n",
        "    Average_Sentence_Length = len(word_tokens) /len(sent_tokens)\n",
        "    output_df.loc[index,'AVG SENTENCE LENGTH']=Average_Sentence_Length\n",
        "\n",
        "    #calculate complex words\n",
        "    complex_words = count_complex_words(word_tokens)\n",
        "    output_df.loc[index,'COMPLEX WORD COUNT'] = complex_words\n",
        "\n",
        "    #calculate percentage of complex words\n",
        "    Percentage_of_Complex_words = (complex_words / len(word_tokens))*100\n",
        "    output_df.loc[index,'PERCENTAGE OF COMPLEX WORDS'] = Percentage_of_Complex_words\n",
        "\n",
        "    #calculate fog index\n",
        "    Fog_Index = 0.4 * (Average_Sentence_Length +  Percentage_of_Complex_words)\n",
        "    output_df.loc[index,'FOG INDEX']=Fog_Index\n",
        "\n",
        "    #average no of words per sentence\n",
        "    Average_Number_of_Words_Per_Sentence = len(word_tokens)/len(sent_tokens)\n",
        "    output_df.loc[index,'AVG NUMBER OF WORDS PER SENTENCE']=Average_Number_of_Words_Per_Sentence\n",
        "\n",
        "\n",
        "    #word_count\n",
        "    word_count=len(word_tokens)\n",
        "    output_df.loc[index,'WORD COUNT']=word_count\n",
        "\n",
        "\n",
        "\n",
        "    #calculate Avg syllables per word\n",
        "    syllable_count=count_syllables_per_word(word_tokens)\n",
        "    output_df.loc[index,'SYLLABLE PER WORD']=syllable_count/len(word_tokens)\n",
        "\n",
        "    #calculate personal pronouns\n",
        "    personal_pronouns = count_personal_pronouns(article_text)\n",
        "    output_df.loc[index,'PERSONAL PRONOUNS']=personal_pronouns\n",
        "\n",
        "    #calculate AVERAGE WORD LENGTH\n",
        "    avg_word_lenght = avg_word_length(word_tokens)\n",
        "    output_df.loc[index,'AVG WORD LENGTH']=avg_word_lenght\n"
      ],
      "metadata": {
        "id": "qhf4bkzK2rqI"
      },
      "execution_count": null,
      "outputs": []
    },
    {
      "cell_type": "code",
      "source": [
        "output_df.to_csv(\"output_data.csv\")"
      ],
      "metadata": {
        "id": "J_HI-FHGLXuO"
      },
      "execution_count": null,
      "outputs": []
    },
    {
      "cell_type": "code",
      "source": [],
      "metadata": {
        "id": "gUCDp0vi4QTi"
      },
      "execution_count": null,
      "outputs": []
    }
  ]
}